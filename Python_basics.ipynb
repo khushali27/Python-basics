{
  "nbformat": 4,
  "nbformat_minor": 0,
  "metadata": {
    "colab": {
      "provenance": []
    },
    "kernelspec": {
      "name": "python3",
      "display_name": "Python 3"
    },
    "language_info": {
      "name": "python"
    }
  },
  "cells": [
    {
      "cell_type": "markdown",
      "source": [
        "PYTHON BASICS"
      ],
      "metadata": {
        "id": "2pNC4AshD8uz"
      }
    },
    {
      "cell_type": "markdown",
      "source": [
        "# Theoritical Questions"
      ],
      "metadata": {
        "id": "CYNWc9ysArJ6"
      }
    },
    {
      "cell_type": "markdown",
      "source": [
        "1. What is Python, and why is it popular?\n",
        "\n"
      ],
      "metadata": {
        "id": "KjDLjo9SY65O"
      }
    },
    {
      "cell_type": "markdown",
      "source": [
        "Ans.\n",
        "Python is a programming language that is easy to understand and write, making it a popular choice among developers and programmers.\n",
        "It is popular because Python has a large and active community of developers, an extensive standard library, widely used in the industry.\n",
        "\n",
        "\n"
      ],
      "metadata": {
        "id": "KJQTbO1NZxzq"
      }
    },
    {
      "cell_type": "markdown",
      "source": [
        "2. What is an interpreter in Python"
      ],
      "metadata": {
        "id": "sLqloHOubJkS"
      }
    },
    {
      "cell_type": "markdown",
      "source": [
        "Ans. A python interpreter is a computer program that converts each high-level program statement into machine code. An interpreter translates the command that you write out into code that the computer can understand  For e.g CPython, PyPy, Jython, IronPython, PythonNet, Stackless Python\n"
      ],
      "metadata": {
        "id": "X40hDPYedmZ2"
      }
    },
    {
      "cell_type": "markdown",
      "source": [
        "3. What are pre-defined keywords in Python?\n",
        "\n",
        "\n",
        "\n",
        "\n"
      ],
      "metadata": {
        "id": "f0tzF7qQdlrF"
      }
    },
    {
      "cell_type": "markdown",
      "source": [
        "Ans. Keywords are reserved words in Python that have special meanings and cannot be used as identifiers (variable names, function names, etc.).Keywords are case-sensitive and cannot be redefined or overridden within a Python program.\n"
      ],
      "metadata": {
        "id": "XWqk74OH3M8S"
      }
    },
    {
      "cell_type": "markdown",
      "source": [
        "4. Can keywords be used as variable names?"
      ],
      "metadata": {
        "id": "sKcFpyZV3f0y"
      }
    },
    {
      "cell_type": "markdown",
      "source": [
        "Ans. No, Keywords can not be used as variables because they have special meanings in python."
      ],
      "metadata": {
        "id": "ivQEWVon3kLY"
      }
    },
    {
      "cell_type": "markdown",
      "source": [
        "5. What is mutability in Python?"
      ],
      "metadata": {
        "id": "ASF45geS30_9"
      }
    },
    {
      "cell_type": "markdown",
      "source": [
        "Ans. Objects/container whose state or value can be changed after they are created are called as mutable objects or container,\n",
        "list is a type of mutable object/supports item assignment"
      ],
      "metadata": {
        "id": "r-wXQhWh4H_8"
      }
    },
    {
      "cell_type": "markdown",
      "source": [
        "6. Why are lists mutable, but tuples are immutable?"
      ],
      "metadata": {
        "id": "LZLar4XO4V0O"
      }
    },
    {
      "cell_type": "markdown",
      "source": [
        "Ans. Because Mutable objects, such as lists and dictionaries, can be modified after creation, while immutable objects, such as tuples and strings, cannot.\n"
      ],
      "metadata": {
        "id": "exbrlXjH5cr5"
      }
    },
    {
      "cell_type": "markdown",
      "source": [
        "7. What is the difference between “==” and “is” operators in Python?"
      ],
      "metadata": {
        "id": "lGO0Fx7X5nfK"
      }
    },
    {
      "cell_type": "markdown",
      "source": [
        "Ans. In Python, == and is operators are both used for comparison but they serve different purposes. The == operator checks for equality of values which means it evaluates whether the values of two objects are the same. On the other hand, is operator checks for identity, meaning it determines whether two variables point to the same object in memory."
      ],
      "metadata": {
        "id": "V_-OZOU_6qXZ"
      }
    },
    {
      "cell_type": "markdown",
      "source": [
        "8. What are logical operators in Python?"
      ],
      "metadata": {
        "id": "qsYmn4Hj6-JT"
      }
    },
    {
      "cell_type": "markdown",
      "source": [
        "Ans. In Python, logical operators are used to combine multiple conditions together and evaluate them as a single boolean expression. There are three types of logical operators in Python: `and`, `or`, and `not`.\n",
        "\n",
        "\n",
        "\n",
        "1.   The `and` operator returns `True` if both conditions it is evaluating are true, otherwise it returns `False`.\n",
        "2.   The `or` operator returns `True` if at least one of the conditions it is evaluating is true.\n",
        "3. Finally, the `not` operator negates a boolean expression. That is, it returns `True` if its operand is false and vice versa.\n",
        "\n"
      ],
      "metadata": {
        "id": "PPEEomL77wIB"
      }
    },
    {
      "cell_type": "markdown",
      "source": [
        "9. What is type casting in Python?"
      ],
      "metadata": {
        "id": "1NTQw1z98GEo"
      }
    },
    {
      "cell_type": "markdown",
      "source": [
        "Ans. Type casting, also referred to as type conversion, is the process of changing one data type to another in Python.\n",
        "Python provides built-in functions for type casting, such as int(), float(), str(), list(), tuple(), dict(), etc.\n"
      ],
      "metadata": {
        "id": "43Tf04mt8dYJ"
      }
    },
    {
      "cell_type": "markdown",
      "source": [
        "10. What is the difference between implicit and explicit type casting?"
      ],
      "metadata": {
        "id": "y9hruEN58nAA"
      }
    },
    {
      "cell_type": "markdown",
      "source": [
        "Ans. Python provides two types of type casting:\n",
        "\n",
        "Explicit Type Casting: Where the programmer manually converts one data type into another.\n",
        "Implicit Type Casting: Where Python automatically converts one data type to another to prevent data loss or errors.\n"
      ],
      "metadata": {
        "id": "be9ONy9I9tXX"
      }
    },
    {
      "cell_type": "markdown",
      "source": [
        "11. What is the purpose of conditional statements in Python?"
      ],
      "metadata": {
        "id": "-jtCbUFH91bw"
      }
    },
    {
      "cell_type": "markdown",
      "source": [
        "Ans. Conditionals in Python are used to execute code based on the evaluation of one or more conditions.\n",
        "Python supports conditional statements such as if, elif (else if), and else to control the flow of execution.\n",
        "Conditionals can be nested to handle multiple conditions and control different branches of execution based on the outcome of logical expressions.\n"
      ],
      "metadata": {
        "id": "DoxHsQaf-AGy"
      }
    },
    {
      "cell_type": "markdown",
      "source": [
        "12. How does the elif statement work?"
      ],
      "metadata": {
        "id": "nWa5b3Kd-KWE"
      }
    },
    {
      "cell_type": "markdown",
      "source": [
        "Ans.The “elif” keyword in Python, stands for “else if”. It can be used in conditional statements to check for multiple conditions. For example, if the first condition is false, it moves on to the next “elif” statement to check if that condition is true.If none of the conditions are true, the code will execute the else statement.\n"
      ],
      "metadata": {
        "id": "wkrEnkKt-ZdF"
      }
    },
    {
      "cell_type": "markdown",
      "source": [
        "13. What is the difference between for and while loops?"
      ],
      "metadata": {
        "id": "m4GqHHX_-oWk"
      }
    },
    {
      "cell_type": "markdown",
      "source": [
        "Ans 1. For loop is used to iterate over a sequence of items. For loops are designed for iterating over a sequence of items. Eg. list, tuple, etc. For loop require a sequence to iterate over.For loop is typically used for iterating over a fixed sequence of items\n",
        "2. While loop is used to repeatedly execute a block of statements while a condition is true. While loop is used when the number of iterations is not known in advance or when we want to repeat a block of code until a certain condition is met.While the loop requires an initial condition that is tested at the beginning of the loop. While loop is used for more complex control flow situations.\n",
        "\n"
      ],
      "metadata": {
        "id": "b0XCdHge_ShQ"
      }
    },
    {
      "cell_type": "markdown",
      "source": [
        "14. Describe a scenario where a while loop is more suitable than a for loop."
      ],
      "metadata": {
        "id": "fEyQT1cJ_8mM"
      }
    },
    {
      "cell_type": "markdown",
      "source": [
        "Ans. In contrast to a 'for' loop, which is generally used when the number of iterations is known beforehand, a 'while' loop is ideal for situations where the number of iterations is not predetermined and depends on some dynamic condition"
      ],
      "metadata": {
        "id": "vTv60qi8AWr7"
      }
    },
    {
      "cell_type": "markdown",
      "source": [
        "# Practical Questions"
      ],
      "metadata": {
        "id": "it6-VexiDVdG"
      }
    },
    {
      "cell_type": "markdown",
      "source": [
        "1. Write a Python program to print \"Hello, World!"
      ],
      "metadata": {
        "id": "_OjPm0GEDZ2S"
      }
    },
    {
      "cell_type": "code",
      "source": [
        "#Ans.\n",
        "print (\"Hello, World!\")"
      ],
      "metadata": {
        "colab": {
          "base_uri": "https://localhost:8080/"
        },
        "id": "ZgyUUd9eDcDi",
        "outputId": "d075a676-2895-4145-a3fd-1dc81dbb5b47"
      },
      "execution_count": null,
      "outputs": [
        {
          "output_type": "stream",
          "name": "stdout",
          "text": [
            "Hello, World!\n"
          ]
        }
      ]
    },
    {
      "cell_type": "markdown",
      "source": [
        "2. Write a Python program that displays your name and age"
      ],
      "metadata": {
        "id": "IvLPK6hjEMRZ"
      }
    },
    {
      "cell_type": "code",
      "source": [
        "#Ans.\n",
        "Name = input(\"My Name is:\")"
      ],
      "metadata": {
        "colab": {
          "base_uri": "https://localhost:8080/"
        },
        "id": "M54hnKwcHVeD",
        "outputId": "2bb560ec-70c6-468c-b20f-9f363cf75e80"
      },
      "execution_count": null,
      "outputs": [
        {
          "name": "stdout",
          "output_type": "stream",
          "text": [
            "My Name is:khushali\n"
          ]
        }
      ]
    },
    {
      "cell_type": "code",
      "source": [
        "Age = input(\"My Age is:\")"
      ],
      "metadata": {
        "colab": {
          "base_uri": "https://localhost:8080/"
        },
        "id": "UiWg3hXrHfQB",
        "outputId": "b54c5f5c-060f-4e49-d081-7757e1f7efb3"
      },
      "execution_count": null,
      "outputs": [
        {
          "name": "stdout",
          "output_type": "stream",
          "text": [
            "My Age is:29\n"
          ]
        }
      ]
    },
    {
      "cell_type": "code",
      "source": [
        "print (\"My name is \"+Name+\" and my age is \"+Age+\"\")"
      ],
      "metadata": {
        "colab": {
          "base_uri": "https://localhost:8080/"
        },
        "id": "dgINsVGaHlIy",
        "outputId": "57db9f40-c34e-4d51-b023-0fa1547d0153"
      },
      "execution_count": null,
      "outputs": [
        {
          "output_type": "stream",
          "name": "stdout",
          "text": [
            "My name is khushali and my age is 29\n"
          ]
        }
      ]
    },
    {
      "cell_type": "markdown",
      "source": [
        "3. Write code to print all the pre-defined keywords in Python using the keyword library"
      ],
      "metadata": {
        "id": "X-gTnI25IC5B"
      }
    },
    {
      "cell_type": "code",
      "source": [
        "help('keywords')"
      ],
      "metadata": {
        "colab": {
          "base_uri": "https://localhost:8080/"
        },
        "id": "-5MkInmwIXgX",
        "outputId": "814913de-e572-41ab-827a-a874bed47dff"
      },
      "execution_count": null,
      "outputs": [
        {
          "output_type": "stream",
          "name": "stdout",
          "text": [
            "\n",
            "Here is a list of the Python keywords.  Enter any keyword to get more help.\n",
            "\n",
            "False               class               from                or\n",
            "None                continue            global              pass\n",
            "True                def                 if                  raise\n",
            "and                 del                 import              return\n",
            "as                  elif                in                  try\n",
            "assert              else                is                  while\n",
            "async               except              lambda              with\n",
            "await               finally             nonlocal            yield\n",
            "break               for                 not                 \n",
            "\n"
          ]
        }
      ]
    },
    {
      "cell_type": "markdown",
      "source": [
        "4. Write a program that checks if a given word is a Python keyword:\n",
        "\n"
      ],
      "metadata": {
        "id": "RukkdYjVIjRS"
      }
    },
    {
      "cell_type": "code",
      "source": [
        "#Ans\n",
        "import keyword"
      ],
      "metadata": {
        "id": "446vt0JKhfUG"
      },
      "execution_count": null,
      "outputs": []
    },
    {
      "cell_type": "code",
      "source": [
        "b ='print'"
      ],
      "metadata": {
        "id": "30EassBNSfsZ"
      },
      "execution_count": null,
      "outputs": []
    },
    {
      "cell_type": "code",
      "source": [
        "keyword.iskeyword(b)"
      ],
      "metadata": {
        "colab": {
          "base_uri": "https://localhost:8080/"
        },
        "id": "8rf6YC7WPpin",
        "outputId": "e878555a-a54e-4589-c721-b78203c32c64"
      },
      "execution_count": null,
      "outputs": [
        {
          "output_type": "execute_result",
          "data": {
            "text/plain": [
              "False"
            ]
          },
          "metadata": {},
          "execution_count": 36
        }
      ]
    },
    {
      "cell_type": "code",
      "source": [
        "c ='while'"
      ],
      "metadata": {
        "id": "9ScIhOJaSrvb"
      },
      "execution_count": null,
      "outputs": []
    },
    {
      "cell_type": "code",
      "source": [
        "keyword.iskeyword(c)"
      ],
      "metadata": {
        "colab": {
          "base_uri": "https://localhost:8080/"
        },
        "id": "3QbnP-GhPuqH",
        "outputId": "fcc9e849-887d-49cd-93a6-a549f2b7b4fd"
      },
      "execution_count": null,
      "outputs": [
        {
          "output_type": "execute_result",
          "data": {
            "text/plain": [
              "True"
            ]
          },
          "metadata": {},
          "execution_count": 37
        }
      ]
    },
    {
      "cell_type": "markdown",
      "source": [
        "5. Create a list and tuple in Python, and demonstrate how attempting to change an element works differently for each"
      ],
      "metadata": {
        "id": "Dx9koOD4ayMQ"
      }
    },
    {
      "cell_type": "markdown",
      "source": [
        "Ans. **For the list** (my_list), we successfully changed the element at index 0 to 10.\n",
        "\n",
        "---\n",
        "\n",
        "\n",
        "**For the tuple** (my_tuple), attempting to change an element raises a TypeError, because tuples are immutable, and their elements cannot be modified after creation.\n",
        "\n",
        "\n",
        "\n"
      ],
      "metadata": {
        "id": "WHIjhl5akSFU"
      }
    },
    {
      "cell_type": "code",
      "source": [
        "# Creating a list\n",
        "my_list = [1, 2, 3, 4]\n",
        "\n",
        "# Creating a tuple\n",
        "my_tuple = (1, 2, 3, 4)\n",
        "\n",
        "\n"
      ],
      "metadata": {
        "id": "h9dmJkdVa05L"
      },
      "execution_count": null,
      "outputs": []
    },
    {
      "cell_type": "code",
      "source": [
        "# Changing an element in the list (this will work)\n",
        "my_list[0] = 10\n",
        "my_list\n"
      ],
      "metadata": {
        "colab": {
          "base_uri": "https://localhost:8080/"
        },
        "id": "vHRa7eCijlZ9",
        "outputId": "6c1e17d2-3c58-4bb0-afd1-c6e8dd4b3ba6"
      },
      "execution_count": null,
      "outputs": [
        {
          "output_type": "execute_result",
          "data": {
            "text/plain": [
              "[10, 2, 3, 4]"
            ]
          },
          "metadata": {},
          "execution_count": 55
        }
      ]
    },
    {
      "cell_type": "code",
      "source": [
        "# Changing an element in the tuple (this will raise an error)\n",
        "my_tuple[0] = 10\n",
        "my_tuple\n"
      ],
      "metadata": {
        "colab": {
          "base_uri": "https://localhost:8080/",
          "height": 176
        },
        "id": "dvlhFLhEj_B6",
        "outputId": "f874bfcd-9001-4530-eaa9-fd2a1b636209"
      },
      "execution_count": null,
      "outputs": [
        {
          "output_type": "error",
          "ename": "TypeError",
          "evalue": "'tuple' object does not support item assignment",
          "traceback": [
            "\u001b[0;31m---------------------------------------------------------------------------\u001b[0m",
            "\u001b[0;31mTypeError\u001b[0m                                 Traceback (most recent call last)",
            "\u001b[0;32m<ipython-input-58-7587c948ea4e>\u001b[0m in \u001b[0;36m<cell line: 2>\u001b[0;34m()\u001b[0m\n\u001b[1;32m      1\u001b[0m \u001b[0;31m# Changing an element in the tuple (this will raise an error)\u001b[0m\u001b[0;34m\u001b[0m\u001b[0;34m\u001b[0m\u001b[0m\n\u001b[0;32m----> 2\u001b[0;31m \u001b[0mmy_tuple\u001b[0m\u001b[0;34m[\u001b[0m\u001b[0;36m0\u001b[0m\u001b[0;34m]\u001b[0m \u001b[0;34m=\u001b[0m \u001b[0;36m10\u001b[0m\u001b[0;34m\u001b[0m\u001b[0;34m\u001b[0m\u001b[0m\n\u001b[0m\u001b[1;32m      3\u001b[0m \u001b[0mmy_tuple\u001b[0m\u001b[0;34m\u001b[0m\u001b[0;34m\u001b[0m\u001b[0m\n",
            "\u001b[0;31mTypeError\u001b[0m: 'tuple' object does not support item assignment"
          ]
        }
      ]
    },
    {
      "cell_type": "markdown",
      "source": [
        "6. Write a function to demonstrate the behavior of mutable and immutable arguments\n",
        "\n",
        "---\n",
        "\n"
      ],
      "metadata": {
        "id": "GXS-PR96a2mu"
      }
    },
    {
      "cell_type": "code",
      "source": [
        "#Ans\n",
        "\n",
        "#mutability\n",
        "list_cont = [1, 2, 3, 4.3, 3+5j, True, \"Ajay\"]\n",
        "\n",
        "list_cont[6] = \"Bijay\"\n",
        "\n",
        "list_cont\n",
        "\n",
        "#objects/container whose state or value can be changed after they are created are\n",
        "#called as mutable objects or container,\n",
        "#list is a type of mutable object/supports item assignment\n"
      ],
      "metadata": {
        "colab": {
          "base_uri": "https://localhost:8080/"
        },
        "id": "dtsQUqbIa46s",
        "outputId": "7740b54c-0af6-453b-d38d-a98837abf850"
      },
      "execution_count": null,
      "outputs": [
        {
          "output_type": "execute_result",
          "data": {
            "text/plain": [
              "[1, 2, 3, 4.3, (3+5j), True, 'Bijay']"
            ]
          },
          "metadata": {},
          "execution_count": 64
        }
      ]
    },
    {
      "cell_type": "code",
      "source": [
        "#immutability\n",
        "\n",
        "b = \"pwskills\"\n",
        "\n",
        "b[0] = \"I\"\n",
        "\n",
        "#objects/container whose state or value can not be changed after they are created are\n",
        "#called as immutable objects or container,\n",
        "#string is a type of immutable object/ doesn't supports item assignment"
      ],
      "metadata": {
        "colab": {
          "base_uri": "https://localhost:8080/",
          "height": 211
        },
        "id": "CGaMxC3doeW0",
        "outputId": "270631dd-b14c-4c82-93b4-6e5e3ce1aecc"
      },
      "execution_count": null,
      "outputs": [
        {
          "output_type": "error",
          "ename": "TypeError",
          "evalue": "'str' object does not support item assignment",
          "traceback": [
            "\u001b[0;31m---------------------------------------------------------------------------\u001b[0m",
            "\u001b[0;31mTypeError\u001b[0m                                 Traceback (most recent call last)",
            "\u001b[0;32m<ipython-input-65-1c4b754c5c25>\u001b[0m in \u001b[0;36m<cell line: 5>\u001b[0;34m()\u001b[0m\n\u001b[1;32m      3\u001b[0m \u001b[0mb\u001b[0m \u001b[0;34m=\u001b[0m \u001b[0;34m\"pwskills\"\u001b[0m\u001b[0;34m\u001b[0m\u001b[0;34m\u001b[0m\u001b[0m\n\u001b[1;32m      4\u001b[0m \u001b[0;34m\u001b[0m\u001b[0m\n\u001b[0;32m----> 5\u001b[0;31m \u001b[0mb\u001b[0m\u001b[0;34m[\u001b[0m\u001b[0;36m0\u001b[0m\u001b[0;34m]\u001b[0m \u001b[0;34m=\u001b[0m \u001b[0;34m\"I\"\u001b[0m\u001b[0;34m\u001b[0m\u001b[0;34m\u001b[0m\u001b[0m\n\u001b[0m\u001b[1;32m      6\u001b[0m \u001b[0;34m\u001b[0m\u001b[0m\n\u001b[1;32m      7\u001b[0m \u001b[0;31m#objects/container whose state or value can not be changed after they are created are\u001b[0m\u001b[0;34m\u001b[0m\u001b[0;34m\u001b[0m\u001b[0m\n",
            "\u001b[0;31mTypeError\u001b[0m: 'str' object does not support item assignment"
          ]
        }
      ]
    },
    {
      "cell_type": "markdown",
      "source": [
        "7. Write a function to demonstrate the behavior of mutable and immutable arguments"
      ],
      "metadata": {
        "id": "B2LCYMT-bt0D"
      }
    },
    {
      "cell_type": "code",
      "source": [
        "#Ans\n",
        "\n",
        "#mutability\n",
        "list_cont = [1, 2, 3, 4.3, 3+5j, True, \"Ajay\"]\n",
        "\n",
        "list_cont[6] = \"Bijay\"\n",
        "\n",
        "list_cont\n",
        "\n",
        "#objects/container whose state or value can be changed after they are created are\n",
        "#called as mutable objects or container,\n",
        "#list is a type of mutable object/supports item assignment\n"
      ],
      "metadata": {
        "colab": {
          "base_uri": "https://localhost:8080/"
        },
        "outputId": "70dc3286-05df-4fe8-8674-6f115b099792",
        "id": "NemKFzlbptAm"
      },
      "execution_count": null,
      "outputs": [
        {
          "output_type": "execute_result",
          "data": {
            "text/plain": [
              "[1, 2, 3, 4.3, (3+5j), True, 'Bijay']"
            ]
          },
          "metadata": {},
          "execution_count": 66
        }
      ]
    },
    {
      "cell_type": "code",
      "source": [
        "#immutability\n",
        "\n",
        "b = \"pwskills\"\n",
        "\n",
        "b[0] = \"I\"\n",
        "\n",
        "#objects/container whose state or value can not be changed after they are created are\n",
        "#called as immutable objects or container,\n",
        "#string is a type of immutable object/ doesn't supports item assignment"
      ],
      "metadata": {
        "colab": {
          "base_uri": "https://localhost:8080/",
          "height": 211
        },
        "outputId": "b0e16e07-b621-43a1-aa89-0b21aa2a2f99",
        "id": "_eACOprdpxQj"
      },
      "execution_count": null,
      "outputs": [
        {
          "output_type": "error",
          "ename": "TypeError",
          "evalue": "'str' object does not support item assignment",
          "traceback": [
            "\u001b[0;31m---------------------------------------------------------------------------\u001b[0m",
            "\u001b[0;31mTypeError\u001b[0m                                 Traceback (most recent call last)",
            "\u001b[0;32m<ipython-input-67-1c4b754c5c25>\u001b[0m in \u001b[0;36m<cell line: 5>\u001b[0;34m()\u001b[0m\n\u001b[1;32m      3\u001b[0m \u001b[0mb\u001b[0m \u001b[0;34m=\u001b[0m \u001b[0;34m\"pwskills\"\u001b[0m\u001b[0;34m\u001b[0m\u001b[0;34m\u001b[0m\u001b[0m\n\u001b[1;32m      4\u001b[0m \u001b[0;34m\u001b[0m\u001b[0m\n\u001b[0;32m----> 5\u001b[0;31m \u001b[0mb\u001b[0m\u001b[0;34m[\u001b[0m\u001b[0;36m0\u001b[0m\u001b[0;34m]\u001b[0m \u001b[0;34m=\u001b[0m \u001b[0;34m\"I\"\u001b[0m\u001b[0;34m\u001b[0m\u001b[0;34m\u001b[0m\u001b[0m\n\u001b[0m\u001b[1;32m      6\u001b[0m \u001b[0;34m\u001b[0m\u001b[0m\n\u001b[1;32m      7\u001b[0m \u001b[0;31m#objects/container whose state or value can not be changed after they are created are\u001b[0m\u001b[0;34m\u001b[0m\u001b[0;34m\u001b[0m\u001b[0m\n",
            "\u001b[0;31mTypeError\u001b[0m: 'str' object does not support item assignment"
          ]
        }
      ]
    },
    {
      "cell_type": "markdown",
      "source": [
        "8. Write a program to demonstrate the use of logical operators\n",
        "\n",
        "\n"
      ],
      "metadata": {
        "id": "tBgn7YdGbyr2"
      }
    },
    {
      "cell_type": "markdown",
      "source": [
        "Ans.\n",
        "In Python, logical operators are used to combine conditional statements. The three primary logical operators are:\n",
        "\n",
        "\n",
        "*   and: Returns True if both conditions are True.\n",
        "\n",
        "*   or: Returns True if at least one condition is True.\n",
        "\n",
        "*  not: Reverses the Boolean value of the condition."
      ],
      "metadata": {
        "id": "2CVsEaIctiFM"
      }
    },
    {
      "cell_type": "code",
      "source": [
        "    # Using 'and' operator: Both conditions must be True\n",
        "    x = 5\n",
        "    y = -3\n",
        "\n",
        "    if x > 0 and y > 0:\n",
        "        print(\"Both x and y are positive.\")\n",
        "\n",
        "    # Using 'or' operator: At least one condition must be True\n",
        "    if x > 0 or y > 0:\n",
        "        print(\"At least one of x or y is positive.\")\n",
        "\n",
        "\n",
        "    # Using 'not' operator: Reversing the condition\n",
        "    if not (x < 0):\n",
        "        print(\"x is not negative.\")\n"
      ],
      "metadata": {
        "colab": {
          "base_uri": "https://localhost:8080/"
        },
        "id": "09KOzMoruop-",
        "outputId": "4e1cd988-2340-4199-9dca-7a40ca1dc4c9"
      },
      "execution_count": null,
      "outputs": [
        {
          "output_type": "stream",
          "name": "stdout",
          "text": [
            "At least one of x or y is positive.\n",
            "x is not negative.\n"
          ]
        }
      ]
    },
    {
      "cell_type": "markdown",
      "source": [
        "9. Write a Python program to convert user input from string to integer, float, and boolean types"
      ],
      "metadata": {
        "id": "letOFEb9b4t8"
      }
    },
    {
      "cell_type": "code",
      "source": [
        "#Ans.\n",
        "#input output>>if you want some user to give value of variable\n",
        "Age = input(\"please enter your Age: \")"
      ],
      "metadata": {
        "colab": {
          "base_uri": "https://localhost:8080/"
        },
        "id": "I7QROCtfsyQx",
        "outputId": "3a674457-2eb8-4200-b98f-1d0512ac6823"
      },
      "execution_count": null,
      "outputs": [
        {
          "name": "stdout",
          "output_type": "stream",
          "text": [
            "please enter your Age: 29\n"
          ]
        }
      ]
    },
    {
      "cell_type": "code",
      "source": [
        "type(Age)"
      ],
      "metadata": {
        "colab": {
          "base_uri": "https://localhost:8080/"
        },
        "id": "03uCzGggs1eS",
        "outputId": "84c6316d-3576-4e10-99bb-67758b7badb3"
      },
      "execution_count": null,
      "outputs": [
        {
          "output_type": "execute_result",
          "data": {
            "text/plain": [
              "str"
            ]
          },
          "metadata": {},
          "execution_count": 3
        }
      ]
    },
    {
      "cell_type": "code",
      "source": [
        "int(Age)"
      ],
      "metadata": {
        "colab": {
          "base_uri": "https://localhost:8080/"
        },
        "id": "1Qo1LgJms5aa",
        "outputId": "472e97ca-19a0-4572-ae8d-ae8a5793d071"
      },
      "execution_count": null,
      "outputs": [
        {
          "output_type": "execute_result",
          "data": {
            "text/plain": [
              "29"
            ]
          },
          "metadata": {},
          "execution_count": 4
        }
      ]
    },
    {
      "cell_type": "code",
      "source": [
        "float(Age)"
      ],
      "metadata": {
        "colab": {
          "base_uri": "https://localhost:8080/"
        },
        "id": "wWHbI8OatHC_",
        "outputId": "e4a9aa56-b23e-476c-8ab7-30c06dc90e17"
      },
      "execution_count": null,
      "outputs": [
        {
          "output_type": "execute_result",
          "data": {
            "text/plain": [
              "29.0"
            ]
          },
          "metadata": {},
          "execution_count": 5
        }
      ]
    },
    {
      "cell_type": "code",
      "source": [
        "bool(Age)"
      ],
      "metadata": {
        "colab": {
          "base_uri": "https://localhost:8080/"
        },
        "id": "EzBcmWq_tJcw",
        "outputId": "9f8bd820-881e-4f08-88eb-30cd4eb46256"
      },
      "execution_count": null,
      "outputs": [
        {
          "output_type": "execute_result",
          "data": {
            "text/plain": [
              "True"
            ]
          },
          "metadata": {},
          "execution_count": 6
        }
      ]
    },
    {
      "cell_type": "markdown",
      "source": [
        "10. Write code to demonstrate type casting with list elements"
      ],
      "metadata": {
        "id": "yXh1x7LtchoO"
      }
    },
    {
      "cell_type": "code",
      "source": [
        "\n",
        "#Ans.\n",
        "\n",
        "List = [2,3, 6, 4, 4.3, True]\n",
        "\n",
        "str(List)"
      ],
      "metadata": {
        "id": "nUk_JLBMckNG",
        "colab": {
          "base_uri": "https://localhost:8080/",
          "height": 35
        },
        "outputId": "92c48c18-14e6-4c8a-b8c4-792e6d764cb9"
      },
      "execution_count": 13,
      "outputs": [
        {
          "output_type": "execute_result",
          "data": {
            "text/plain": [
              "'[2, 3, 6, 4, 4.3, True]'"
            ],
            "application/vnd.google.colaboratory.intrinsic+json": {
              "type": "string"
            }
          },
          "metadata": {},
          "execution_count": 13
        }
      ]
    },
    {
      "cell_type": "markdown",
      "source": [
        "11. Write a program that checks if a number is positive, negative, or zero"
      ],
      "metadata": {
        "id": "vZMwdXtOcmBe"
      }
    },
    {
      "cell_type": "code",
      "source": [
        "#Ans.\n",
        "\n",
        "# The following code checks if a number is positive, negative or 0\n",
        "\n",
        "# Taking user input\n",
        "number = int(input(\"Enter a number : \"))\n",
        "\n",
        "# Condition checking\n",
        "\n",
        "# if the number is greater than 0, then positive\n",
        "# else if the number is lesser than 0, then negative\n",
        "# else number is 0\n",
        "if number>0:\n",
        "  print(number, \"is positive.\")\n",
        "elif number<0:\n",
        "  print(number, \"is negative.\")\n",
        "else:\n",
        "  print(\"Number is 0.\")"
      ],
      "metadata": {
        "id": "78IuStoLcnsg",
        "colab": {
          "base_uri": "https://localhost:8080/"
        },
        "outputId": "4b7d3789-6ecb-46c5-e351-d572d76eb5c0"
      },
      "execution_count": 15,
      "outputs": [
        {
          "output_type": "stream",
          "name": "stdout",
          "text": [
            "Enter a number : -1\n",
            "-1 is negative.\n"
          ]
        }
      ]
    },
    {
      "cell_type": "markdown",
      "source": [
        "12. Write a program for loop to print numbers from 1 to 10"
      ],
      "metadata": {
        "id": "gq4t9WlAcqBJ"
      }
    },
    {
      "cell_type": "code",
      "source": [
        "#Ans\n",
        "for i in range(1, 11):\n",
        "    print(i)\n"
      ],
      "metadata": {
        "id": "gFfJw0FBcr4H",
        "colab": {
          "base_uri": "https://localhost:8080/"
        },
        "outputId": "427baff1-0b77-44ad-8a6d-a84ae3d0d80d"
      },
      "execution_count": 16,
      "outputs": [
        {
          "output_type": "stream",
          "name": "stdout",
          "text": [
            "1\n",
            "2\n",
            "3\n",
            "4\n",
            "5\n",
            "6\n",
            "7\n",
            "8\n",
            "9\n",
            "10\n"
          ]
        }
      ]
    },
    {
      "cell_type": "markdown",
      "source": [
        "13. Write a Python program to find the sum of all even numbers between 1 and 50"
      ],
      "metadata": {
        "id": "-lncjtM9cvit"
      }
    },
    {
      "cell_type": "code",
      "source": [
        "#Ans.\n",
        "\n",
        "# Initialize a variable to store the sum\n",
        "sum_of_evens = 0\n",
        "\n",
        "# Loop through numbers from 1 to 50\n",
        "for num in range(1, 51):\n",
        "    # Check if the number is even\n",
        "    if num % 2 == 0:\n",
        "        # Add the even number to the sum\n",
        "        sum_of_evens += num\n",
        "\n",
        "# Print the result\n",
        "print(\"The sum of all even numbers between 1 and 50 is:\", sum_of_evens)\n"
      ],
      "metadata": {
        "id": "XsvbZbkKcz1s",
        "colab": {
          "base_uri": "https://localhost:8080/"
        },
        "outputId": "0b6aa651-b688-4e71-828a-24313311909f"
      },
      "execution_count": 19,
      "outputs": [
        {
          "output_type": "stream",
          "name": "stdout",
          "text": [
            "The sum of all even numbers between 1 and 50 is: 650\n"
          ]
        }
      ]
    },
    {
      "cell_type": "markdown",
      "source": [
        "14. Write a program to reverse a string using a while loop"
      ],
      "metadata": {
        "id": "3M7L05Yyc10N"
      }
    },
    {
      "cell_type": "code",
      "source": [
        "#Ans\n",
        "\n",
        "# Function to reverse a string using a while loop\n",
        "def reverse_string(input_string):\n",
        "    # Initialize an empty string to store the reversed string\n",
        "    reversed_string = \"\"\n",
        "    # Set an index to the last character of the string\n",
        "    index = len(input_string) - 1\n",
        "\n",
        "    # Use a while loop to iterate through the string in reverse\n",
        "    while index >= 0:\n",
        "        reversed_string += input_string[index]  # Add the character to the reversed string\n",
        "        index -= 1  # Move to the previous character\n",
        "\n",
        "    return reversed_string\n",
        "\n",
        "# Test the function\n",
        "input_string = \"Hello, World!\"\n",
        "reversed_str = reverse_string(input_string)\n",
        "\n",
        "print(\"Original string:\", input_string)\n",
        "print(\"Reversed string:\", reversed_str)\n"
      ],
      "metadata": {
        "id": "VI2HIcX3c2L3",
        "colab": {
          "base_uri": "https://localhost:8080/"
        },
        "outputId": "197868c3-9eaf-4961-d1e9-1740c7257d47"
      },
      "execution_count": 20,
      "outputs": [
        {
          "output_type": "stream",
          "name": "stdout",
          "text": [
            "Original string: Hello, World!\n",
            "Reversed string: !dlroW ,olleH\n"
          ]
        }
      ]
    },
    {
      "cell_type": "markdown",
      "source": [
        "15. Write a Python program to calculate the factorial of a number provided by the user using a while loop."
      ],
      "metadata": {
        "id": "RE5BMWJSc69-"
      }
    },
    {
      "cell_type": "code",
      "source": [
        "#Ans.\n",
        "\n",
        "# Function to calculate factorial using a while loop\n",
        "def factorial(number):\n",
        "    # Initialize result as 1 (since factorial of 0 is 1)\n",
        "    result = 1\n",
        "\n",
        "    # While loop to multiply numbers from 1 to the given number\n",
        "    while number > 0:\n",
        "        result *= number  # Multiply the result by the current number\n",
        "        number -= 1  # Decrement the number\n",
        "\n",
        "    return result\n",
        "\n",
        "# Get input from the user\n",
        "num = int(input(\"Enter a number to calculate its factorial: \"))\n",
        "\n",
        "# Calculate and display the factorial\n",
        "if num < 0:\n",
        "    print(\"Factorial is not defined for negative numbers.\")\n",
        "else:\n",
        "    fact = factorial(num)\n",
        "    print(f\"The factorial of {num} is {fact}.\")\n"
      ],
      "metadata": {
        "id": "5bY8OEAnc8dy",
        "colab": {
          "base_uri": "https://localhost:8080/"
        },
        "outputId": "a461873c-3df2-4e43-f654-aacac31b72f2"
      },
      "execution_count": 21,
      "outputs": [
        {
          "output_type": "stream",
          "name": "stdout",
          "text": [
            "Enter a number to calculate its factorial: 5\n",
            "The factorial of 5 is 120.\n"
          ]
        }
      ]
    },
    {
      "cell_type": "code",
      "source": [],
      "metadata": {
        "id": "Jk_VX7DeIi8K"
      },
      "execution_count": null,
      "outputs": []
    }
  ]
}